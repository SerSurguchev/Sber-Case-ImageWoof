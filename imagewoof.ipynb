{
 "cells": [
  {
   "cell_type": "code",
   "execution_count": 8,
   "metadata": {
    "execution": {
     "iopub.execute_input": "2022-07-28T12:26:39.674401Z",
     "iopub.status.busy": "2022-07-28T12:26:39.673970Z",
     "iopub.status.idle": "2022-07-28T12:26:42.262044Z",
     "shell.execute_reply": "2022-07-28T12:26:42.261042Z",
     "shell.execute_reply.started": "2022-07-28T12:26:39.674364Z"
    }
   },
   "outputs": [],
   "source": [
    "from main import main\n",
    "from utils import save_plots"
   ]
  },
  {
   "cell_type": "code",
   "execution_count": 9,
   "metadata": {
    "execution": {
     "iopub.execute_input": "2022-07-28T12:26:42.264287Z",
     "iopub.status.busy": "2022-07-28T12:26:42.263599Z",
     "iopub.status.idle": "2022-07-28T12:26:42.271007Z",
     "shell.execute_reply": "2022-07-28T12:26:42.269679Z",
     "shell.execute_reply.started": "2022-07-28T12:26:42.264240Z"
    }
   },
   "outputs": [],
   "source": [
    "acc_train = {}\n",
    "acc_val = {}\n",
    "loss_train = {}\n",
    "loss_val = {}"
   ]
  },
  {
   "cell_type": "code",
   "execution_count": 18,
   "metadata": {
    "execution": {
     "iopub.execute_input": "2022-07-28T16:03:24.900881Z",
     "iopub.status.busy": "2022-07-28T16:03:24.900182Z",
     "iopub.status.idle": "2022-07-28T16:03:24.905452Z",
     "shell.execute_reply": "2022-07-28T16:03:24.904214Z",
     "shell.execute_reply.started": "2022-07-28T16:03:24.900843Z"
    }
   },
   "outputs": [],
   "source": [
    "acc_train['Resnet18_default'], acc_val['Resnet18_default'], loss_train['Resnet18_default'], loss_val['Resnet18_default'] = \\\n",
    "main(model= ResNet18(pretrained=True, \n",
    "                     fine_tune=False, num_classes=10),\n",
    "     file_name_to_save='Resnet18_best.pth')"
   ]
  },
  {
   "cell_type": "code",
   "execution_count": 19,
   "metadata": {
    "execution": {
     "iopub.execute_input": "2022-07-28T16:03:29.354373Z",
     "iopub.status.busy": "2022-07-28T16:03:29.353998Z",
     "iopub.status.idle": "2022-07-28T16:03:29.359395Z",
     "shell.execute_reply": "2022-07-28T16:03:29.358028Z",
     "shell.execute_reply.started": "2022-07-28T16:03:29.354342Z"
    }
   },
   "outputs": [],
   "source": [
    "acc_train['Resnet34_default'], acc_val['Resnet34_default'], loss_train['Resnet34_default'], loss_val['Resnet34_default'] = \\\n",
    "main(model= ResNet34(pretrained=True, \n",
    "                     fine_tune=False, num_classes=10),\n",
    "     file_name_to_save='Resnet34_best.pth')"
   ]
  },
  {
   "cell_type": "code",
   "execution_count": 31,
   "metadata": {
    "execution": {
     "iopub.execute_input": "2022-07-28T17:50:00.996679Z",
     "iopub.status.busy": "2022-07-28T17:50:00.995592Z",
     "iopub.status.idle": "2022-07-28T17:50:01.001615Z",
     "shell.execute_reply": "2022-07-28T17:50:01.000344Z",
     "shell.execute_reply.started": "2022-07-28T17:50:00.996631Z"
    }
   },
   "outputs": [],
   "source": [
    "acc_train['Resnet50_default'], acc_val['Resnet50_default'], loss_train['Resnet50_default'], loss_val['Resnet50_default'] = \\\n",
    "main(file_name_to_save='Resnet50_best.pth')"
   ]
  },
  {
   "cell_type": "code",
   "execution_count": 30,
   "metadata": {
    "execution": {
     "iopub.execute_input": "2022-07-28T17:40:51.191260Z",
     "iopub.status.busy": "2022-07-28T17:40:51.190254Z",
     "iopub.status.idle": "2022-07-28T17:41:32.450093Z",
     "shell.execute_reply": "2022-07-28T17:41:32.449203Z",
     "shell.execute_reply.started": "2022-07-28T17:40:51.191180Z"
    }
   },
   "outputs": [],
   "source": [
    "save_plots(acc_train, acc_val, loss_train, loss_val, [ 'Resnet34_default', 'Resnet18_default', 'Resnet50_default'], download=True)"
   ]
  },
  {
   "cell_type": "code",
   "execution_count": null,
   "metadata": {},
   "outputs": [],
   "source": []
  }
 ],
 "metadata": {
  "kernelspec": {
   "display_name": "Python 3",
   "language": "python",
   "name": "python3"
  },
  "language_info": {
   "codemirror_mode": {
    "name": "ipython",
    "version": 3
   },
   "file_extension": ".py",
   "mimetype": "text/x-python",
   "name": "python",
   "nbconvert_exporter": "python",
   "pygments_lexer": "ipython3",
   "version": "3.8.5"
  }
 },
 "nbformat": 4,
 "nbformat_minor": 4
}
